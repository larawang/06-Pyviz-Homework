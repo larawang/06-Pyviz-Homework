{
 "cells": [
  {
   "cell_type": "markdown",
   "metadata": {},
   "source": [
    "# San Francisco Rental Prices Dashboard\n",
    "\n",
    "In this notebook, you will compile the visualizations from the previous analysis into functions that can be used for a Panel dashboard."
   ]
  },
  {
   "cell_type": "code",
   "execution_count": 25,
   "metadata": {},
   "outputs": [],
   "source": [
    "# imports\n",
    "import panel as pn\n",
    "pn.extension('plotly')\n",
    "import plotly.express as px\n",
    "import pandas as pd\n",
    "import hvplot.pandas\n",
    "import matplotlib.pyplot as plt\n",
    "import os\n",
    "from pathlib import Path\n",
    "from dotenv import load_dotenv\n",
    "from panel.interact import interact\n",
    "from panel import widgets"
   ]
  },
  {
   "cell_type": "code",
   "execution_count": 26,
   "metadata": {},
   "outputs": [],
   "source": [
    "# Read the Mapbox API key\n",
    "load_dotenv()\n",
    "map_box_api = os.getenv(\"mapbox\")\n",
    "px.set_mapbox_access_token(map_box_api)"
   ]
  },
  {
   "cell_type": "markdown",
   "metadata": {},
   "source": [
    "# Import Data"
   ]
  },
  {
   "cell_type": "code",
   "execution_count": 27,
   "metadata": {},
   "outputs": [
    {
     "data": {
      "text/html": [
       "<div>\n",
       "<style scoped>\n",
       "    .dataframe tbody tr th:only-of-type {\n",
       "        vertical-align: middle;\n",
       "    }\n",
       "\n",
       "    .dataframe tbody tr th {\n",
       "        vertical-align: top;\n",
       "    }\n",
       "\n",
       "    .dataframe thead th {\n",
       "        text-align: right;\n",
       "    }\n",
       "</style>\n",
       "<table border=\"1\" class=\"dataframe\">\n",
       "  <thead>\n",
       "    <tr style=\"text-align: right;\">\n",
       "      <th></th>\n",
       "      <th>neighborhood</th>\n",
       "      <th>sale_price_sqr_foot</th>\n",
       "      <th>housing_units</th>\n",
       "      <th>gross_rent</th>\n",
       "    </tr>\n",
       "    <tr>\n",
       "      <th>year</th>\n",
       "      <th></th>\n",
       "      <th></th>\n",
       "      <th></th>\n",
       "      <th></th>\n",
       "    </tr>\n",
       "  </thead>\n",
       "  <tbody>\n",
       "    <tr>\n",
       "      <th>2010</th>\n",
       "      <td>Alamo Square</td>\n",
       "      <td>291.182945</td>\n",
       "      <td>372560</td>\n",
       "      <td>1239</td>\n",
       "    </tr>\n",
       "    <tr>\n",
       "      <th>2010</th>\n",
       "      <td>Anza Vista</td>\n",
       "      <td>267.932583</td>\n",
       "      <td>372560</td>\n",
       "      <td>1239</td>\n",
       "    </tr>\n",
       "    <tr>\n",
       "      <th>2010</th>\n",
       "      <td>Bayview</td>\n",
       "      <td>170.098665</td>\n",
       "      <td>372560</td>\n",
       "      <td>1239</td>\n",
       "    </tr>\n",
       "    <tr>\n",
       "      <th>2010</th>\n",
       "      <td>Buena Vista Park</td>\n",
       "      <td>347.394919</td>\n",
       "      <td>372560</td>\n",
       "      <td>1239</td>\n",
       "    </tr>\n",
       "    <tr>\n",
       "      <th>2010</th>\n",
       "      <td>Central Richmond</td>\n",
       "      <td>319.027623</td>\n",
       "      <td>372560</td>\n",
       "      <td>1239</td>\n",
       "    </tr>\n",
       "  </tbody>\n",
       "</table>\n",
       "</div>"
      ],
      "text/plain": [
       "          neighborhood  sale_price_sqr_foot  housing_units  gross_rent\n",
       "year                                                                  \n",
       "2010      Alamo Square           291.182945         372560        1239\n",
       "2010        Anza Vista           267.932583         372560        1239\n",
       "2010           Bayview           170.098665         372560        1239\n",
       "2010  Buena Vista Park           347.394919         372560        1239\n",
       "2010  Central Richmond           319.027623         372560        1239"
      ]
     },
     "execution_count": 27,
     "metadata": {},
     "output_type": "execute_result"
    }
   ],
   "source": [
    "# Import the necessary CSVs to Pandas DataFrames\n",
    "# YOUR CODE HERE!\n",
    "file_path = Path(\"Data/sfo_neighborhoods_census_data.csv\")\n",
    "sfo_data = pd.read_csv(file_path, index_col=\"year\")\n",
    "sfo_data.head()"
   ]
  },
  {
   "cell_type": "markdown",
   "metadata": {},
   "source": [
    "- - -"
   ]
  },
  {
   "cell_type": "markdown",
   "metadata": {},
   "source": [
    "## Panel Visualizations\n",
    "\n",
    "In this section, you will copy the code for each plot type from your analysis notebook and place it into separate functions that Panel can use to create panes for the dashboard. \n",
    "\n",
    "These functions will convert the plot object to a Panel pane.\n",
    "\n",
    "Be sure to include any DataFrame transformation/manipulation code required along with the plotting code.\n",
    "\n",
    "Return a Panel pane object from each function that can be used to build the dashboard.\n",
    "\n",
    "Note: Remove any `.show()` lines from the code. We want to return the plots instead of showing them. The Panel dashboard will then display the plots."
   ]
  },
  {
   "cell_type": "code",
   "execution_count": 28,
   "metadata": {},
   "outputs": [],
   "source": [
    "# Define Panel Visualization Functions\n",
    "def housing_units_per_year():\n",
    "    \"\"\"Housing Units Per Year.\"\"\"\n",
    "\n",
    "       # YOUR CODE HERE!\n",
    "    housing_units_mean=sfo_data[['housing_units']].groupby([sfo_data.index])['housing_units'].mean()\n",
    "    housing_units_min=housing_units_mean.min()\n",
    "    housing_units_max=housing_units_mean.max()\n",
    "    housing_units_std=housing_units_mean.std()\n",
    "    lim_min=housing_units_min-housing_units_std\n",
    "    lim_min \n",
    "    lim_max=housing_units_max+housing_units_std\n",
    "    lim_max\n",
    "\n",
    "    return housing_units_mean.hvplot.bar(title='Housing Units in San Francisco from 2010 to 2016', height=400, width=600,ylim=(lim_min,lim_max))\n",
    "   \n",
    "  "
   ]
  },
  {
   "cell_type": "code",
   "execution_count": 29,
   "metadata": {},
   "outputs": [],
   "source": [
    "def average_gross_rent():\n",
    "    \"\"\"Average Gross Rent in San Francisco Per Year.\"\"\"\n",
    "    \n",
    "    # YOUR CODE HERE!\n",
    "    sfo_avg_price_rent_df = sfo_data[['sale_price_sqr_foot','gross_rent']].groupby([sfo_data.index])['sale_price_sqr_foot','gross_rent'].mean()\n",
    "    avg_gross_rent=sfo_avg_price_rent_df.reset_index().hvplot(x='year', y='sale_price_sqr_foot', title='Average Price per SqFt by Year',color='purple')\n",
    "    \n",
    "    return avg_gross_rent"
   ]
  },
  {
   "cell_type": "code",
   "execution_count": 30,
   "metadata": {},
   "outputs": [],
   "source": [
    "def average_sales_price():\n",
    "    \"\"\"Average Sales Price Per Year.\"\"\"\n",
    "    \n",
    "    # YOUR CODE HERE!\n",
    "    sfo_avg_price_rent_df = sfo_data[['sale_price_sqr_foot','gross_rent']].groupby([sfo_data.index])['sale_price_sqr_foot','gross_rent'].mean()\n",
    "    average_sales_price=sfo_avg_price_rent_df.reset_index().hvplot(x='year', y='gross_rent', title='Average Monthly Rent',color='red')\n",
    "\n",
    "    return average_sales_price"
   ]
  },
  {
   "cell_type": "code",
   "execution_count": 31,
   "metadata": {},
   "outputs": [],
   "source": [
    "def average_price_by_neighborhood():\n",
    "    \"\"\"Average Prices by Neighborhood.\"\"\"\n",
    "    \n",
    "    # YOUR CODE HERE!\n",
    "    sfo_data_new=sfo_data.groupby([sfo_data.index,\"neighborhood\"]).mean().reset_index()\n",
    "    average_price_by_neighborhood=sfo_data_new.hvplot(x='year', y=['sale_price_sqr_foot'], groupby=\"neighborhood\",ylabel='Avg. Sale Price per sqft')\n",
    "    return average_price_by_neighborhood"
   ]
  },
  {
   "cell_type": "code",
   "execution_count": 37,
   "metadata": {},
   "outputs": [],
   "source": [
    "def top_most_expensive_neighborhoods():\n",
    "    \"\"\"Top 10 Most Expensive Neighborhoods.\"\"\"\n",
    "\n",
    "    # YOUR CODE HERE!\n",
    "    top10_neighborhood=sfo_data.groupby(['neighborhood'])['sale_price_sqr_foot', 'housing_units', 'gross_rent'].mean()\n",
    "    top10_neighborhood.sort_values(['sale_price_sqr_foot'],ascending=False,inplace=True)\n",
    "    top10_expensive_neighborhood=top10_neighborhood.reset_index().head(10)\n",
    "    return top10_expensive_neighborhood.hvplot.bar(x='neighborhood',y='sale_price_sqr_foot',ylabel='Avg. Sale Price per Square Foot', xlabel='Neighborhood')"
   ]
  },
  {
   "cell_type": "code",
   "execution_count": 38,
   "metadata": {},
   "outputs": [],
   "source": [
    "def most_expensive_neighborhoods_rent_sales():\n",
    "    \"\"\"Comparison of Rent and Sales Prices of Most Expensive Neighborhoods.\"\"\"   \n",
    "    \n",
    "    # YOUR CODE HERE!\n",
    "    sfo_data_new=sfo_data.groupby([sfo_data.index,\"neighborhood\"]).mean().reset_index()\n",
    "    return sfo_data_new.hvplot(x='year', y=['sale_price_sqr_foot'], groupby=\"neighborhood\",ylabel='Avg. Sale Price per sqft')\n",
    "    "
   ]
  },
  {
   "cell_type": "code",
   "execution_count": 39,
   "metadata": {},
   "outputs": [],
   "source": [
    "def parallel_coordinates():\n",
    "    \"\"\"Parallel Coordinates Plot.\"\"\"\n",
    "\n",
    "    # YOUR CODE HERE!\n",
    "\n",
    "\n",
    "def parallel_categories():\n",
    "    \"\"\"Parallel Categories Plot.\"\"\"\n",
    "    \n",
    "    # YOUR CODE HERE!\n",
    "\n",
    "\n",
    "\n",
    "def neighborhood_map():\n",
    "    \"\"\"Neighborhood Map.\"\"\"\n",
    "\n",
    "    # YOUR CODE HERE!\n",
    "\n",
    "\n",
    "def sunburst():\n",
    "    \"\"\"Sunburst Plot.\"\"\"\n",
    "    \n",
    "    # YOUR CODE HERE!"
   ]
  },
  {
   "cell_type": "markdown",
   "metadata": {},
   "source": [
    "## Panel Dashboard\n",
    "\n",
    "In this section, you will combine all of the plots into a single dashboard view using Panel. Be creative with your dashboard design!"
   ]
  },
  {
   "cell_type": "code",
   "execution_count": 40,
   "metadata": {},
   "outputs": [],
   "source": [
    "# Create a Title for the Dashboard\n",
    "# YOUR CODE HERE!\n",
    "welcome_column = pn.Column(\"## This dashboard presents the analysis of sale prices, gross rents based on the neighborhoods from 2010 to 2016\", neighborhood_map())\n",
    "market_analysis = pn.Column(\"## Yearly Market Analysis\", housing_units_per_year(), average_gross_rent(), average_sales_price())\n",
    "neighborhood_analysis = pn.Column(\"## Neighborhood Analysis\",  average_price_by_neighborhood(), top_most_expensive_neighborhoods(), most_expensive_neighborhoods_rent_sales())\n",
    "\n",
    "# Create a tab layout for the dashboard\n",
    "# YOUR CODE HERE!\n",
    "dashboard = pn.Tabs(\n",
    "    (\n",
    "        \"Welcome\",\n",
    "        welcome_column\n",
    "    ),\n",
    "    (\n",
    "        \"Market Analysis\",\n",
    "        market_analysis\n",
    "    ),\n",
    "    (\n",
    "        \"Neighborhood Analysis\",\n",
    "        neighborhood_analysis\n",
    "    )\n",
    ")\n",
    "   "
   ]
  },
  {
   "cell_type": "code",
   "execution_count": 41,
   "metadata": {},
   "outputs": [
    {
     "data": {},
     "metadata": {},
     "output_type": "display_data"
    },
    {
     "data": {},
     "metadata": {},
     "output_type": "display_data"
    },
    {
     "data": {
      "application/vnd.holoviews_exec.v0+json": "",
      "text/html": [
       "<div id='1002'>\n",
       "\n",
       "\n",
       "\n",
       "\n",
       "\n",
       "  <div class=\"bk-root\" id=\"65996537-1954-4873-8ba8-03e7ec1e6efa\" data-root-id=\"1002\"></div>\n",
       "</div>\n",
       "<script type=\"application/javascript\">(function(root) {\n",
       "  function embed_document(root) {\n",
       "    var docs_json = {\"b3199b10-056e-416e-aa49-7d57a9dc4a82\":{\"defs\":[],\"roots\":{\"references\":[{\"attributes\":{},\"id\":\"1154\",\"type\":\"LinearScale\"},{\"attributes\":{},\"id\":\"1238\",\"type\":\"WheelZoomTool\"},{\"attributes\":{\"axis_label\":\"year\",\"formatter\":{\"id\":\"1188\"},\"major_label_policy\":{\"id\":\"1186\"},\"ticker\":{\"id\":\"1157\"}},\"id\":\"1156\",\"type\":\"LinearAxis\"},{\"attributes\":{},\"id\":\"1055\",\"type\":\"BasicTickFormatter\"},{\"attributes\":{\"line_color\":\"purple\",\"line_width\":2,\"x\":{\"field\":\"year\"},\"y\":{\"field\":\"sale_price_sqr_foot\"}},\"id\":\"1117\",\"type\":\"Line\"},{\"attributes\":{\"line_alpha\":0.1,\"line_color\":\"purple\",\"line_width\":2,\"x\":{\"field\":\"year\"},\"y\":{\"field\":\"sale_price_sqr_foot\"}},\"id\":\"1113\",\"type\":\"Line\"},{\"attributes\":{\"overlay\":{\"id\":\"1241\"}},\"id\":\"1239\",\"type\":\"BoxZoomTool\"},{\"attributes\":{},\"id\":\"1093\",\"type\":\"BasicTicker\"},{\"attributes\":{},\"id\":\"1120\",\"type\":\"BasicTickFormatter\"},{\"attributes\":{\"axis\":{\"id\":\"1160\"},\"dimension\":1,\"grid_line_color\":null,\"ticker\":null},\"id\":\"1163\",\"type\":\"Grid\"},{\"attributes\":{},\"id\":\"1240\",\"type\":\"ResetTool\"},{\"attributes\":{\"overlay\":{\"id\":\"1101\"}},\"id\":\"1099\",\"type\":\"BoxZoomTool\"},{\"attributes\":{\"fill_alpha\":{\"value\":0.1},\"fill_color\":{\"value\":\"#30a2da\"},\"line_alpha\":{\"value\":0.1},\"top\":{\"field\":\"sale_price_sqr_foot\"},\"width\":{\"value\":0.8},\"x\":{\"field\":\"neighborhood\"}},\"id\":\"1330\",\"type\":\"VBar\"},{\"attributes\":{\"axis\":{\"id\":\"1156\"},\"grid_line_color\":null,\"ticker\":null},\"id\":\"1159\",\"type\":\"Grid\"},{\"attributes\":{},\"id\":\"1110\",\"type\":\"Selection\"},{\"attributes\":{\"axis_label\":\"sale_price_sqr_foot\",\"formatter\":{\"id\":\"1123\"},\"major_label_policy\":{\"id\":\"1121\"},\"ticker\":{\"id\":\"1093\"}},\"id\":\"1092\",\"type\":\"LinearAxis\"},{\"attributes\":{},\"id\":\"1161\",\"type\":\"BasicTicker\"},{\"attributes\":{\"axis\":{\"id\":\"1088\"},\"grid_line_color\":null,\"ticker\":null},\"id\":\"1091\",\"type\":\"Grid\"},{\"attributes\":{\"axis_label\":\"gross_rent\",\"formatter\":{\"id\":\"1191\"},\"major_label_policy\":{\"id\":\"1189\"},\"ticker\":{\"id\":\"1161\"}},\"id\":\"1160\",\"type\":\"LinearAxis\"},{\"attributes\":{\"bottom_units\":\"screen\",\"fill_alpha\":0.5,\"fill_color\":\"lightgrey\",\"left_units\":\"screen\",\"level\":\"overlay\",\"line_alpha\":1.0,\"line_color\":\"black\",\"line_dash\":[4,4],\"line_width\":2,\"right_units\":\"screen\",\"syncable\":false,\"top_units\":\"screen\"},\"id\":\"1101\",\"type\":\"BoxAnnotation\"},{\"attributes\":{\"data\":{\"gross_rent\":[1239,1530,2324,2971,3528,3739,4390],\"year\":[2010,2011,2012,2013,2014,2015,2016]},\"selected\":{\"id\":\"1178\"},\"selection_policy\":{\"id\":\"1199\"}},\"id\":\"1177\",\"type\":\"ColumnDataSource\"},{\"attributes\":{},\"id\":\"1277\",\"type\":\"UnionRenderers\"},{\"attributes\":{},\"id\":\"1186\",\"type\":\"AllLabels\"},{\"attributes\":{\"data_source\":{\"id\":\"1177\"},\"glyph\":{\"id\":\"1180\"},\"hover_glyph\":null,\"muted_glyph\":{\"id\":\"1182\"},\"nonselection_glyph\":{\"id\":\"1181\"},\"selection_glyph\":{\"id\":\"1185\"},\"view\":{\"id\":\"1184\"}},\"id\":\"1183\",\"type\":\"GlyphRenderer\"},{\"attributes\":{},\"id\":\"1097\",\"type\":\"PanTool\"},{\"attributes\":{\"active_multi\":null,\"tools\":[{\"id\":\"1078\"},{\"id\":\"1096\"},{\"id\":\"1097\"},{\"id\":\"1098\"},{\"id\":\"1099\"},{\"id\":\"1100\"}]},\"id\":\"1102\",\"type\":\"Toolbar\"},{\"attributes\":{\"line_alpha\":0.2,\"line_color\":\"red\",\"line_width\":2,\"x\":{\"field\":\"year\"},\"y\":{\"field\":\"gross_rent\"}},\"id\":\"1182\",\"type\":\"Line\"},{\"attributes\":{\"data\":{\"neighborhood\":[\"Union Square District\",\"Merced Heights\",\"Miraloma Park\",\"Pacific Heights\",\"Westwood Park\",\"Telegraph Hill\",\"Presidio Heights\",\"Cow Hollow\",\"Potrero Hill\",\"South Beach\"],\"sale_price_sqr_foot\":{\"__ndarray__\":\"JRAUMfI/jEB9IrkvwqaIQFx/3pp8XohAFpsVUHKMhUBs0ERas3iFQL0KhXgNJIVAy835O80ahUANV25bts+EQJrMCuEbsIRAya3y7v5QhEA=\",\"dtype\":\"float64\",\"order\":\"little\",\"shape\":[10]}},\"selected\":{\"id\":\"1327\"},\"selection_policy\":{\"id\":\"1348\"}},\"id\":\"1326\",\"type\":\"ColumnDataSource\"},{\"attributes\":{},\"id\":\"1118\",\"type\":\"AllLabels\"},{\"attributes\":{\"margin\":[5,5,5,5],\"name\":\"VSpacer03836\",\"sizing_mode\":\"stretch_height\"},\"id\":\"1439\",\"type\":\"Spacer\"},{\"attributes\":{\"active_multi\":null,\"tools\":[{\"id\":\"1146\"},{\"id\":\"1164\"},{\"id\":\"1165\"},{\"id\":\"1166\"},{\"id\":\"1167\"},{\"id\":\"1168\"}]},\"id\":\"1170\",\"type\":\"Toolbar\"},{\"attributes\":{\"child\":{\"id\":\"1007\"},\"name\":\"Column03688\",\"title\":\"Market Analysis\"},\"id\":\"1212\",\"type\":\"Panel\"},{\"attributes\":{\"source\":{\"id\":\"1109\"}},\"id\":\"1116\",\"type\":\"CDSView\"},{\"attributes\":{},\"id\":\"1121\",\"type\":\"AllLabels\"},{\"attributes\":{},\"id\":\"1164\",\"type\":\"SaveTool\"},{\"attributes\":{\"bottom_units\":\"screen\",\"fill_alpha\":0.5,\"fill_color\":\"lightgrey\",\"left_units\":\"screen\",\"level\":\"overlay\",\"line_alpha\":1.0,\"line_color\":\"black\",\"line_dash\":[4,4],\"line_width\":2,\"right_units\":\"screen\",\"syncable\":false,\"top_units\":\"screen\"},\"id\":\"1241\",\"type\":\"BoxAnnotation\"},{\"attributes\":{\"callback\":null,\"renderers\":[{\"id\":\"1183\"}],\"tags\":[\"hv_created\"],\"tooltips\":[[\"year\",\"@{year}\"],[\"gross_rent\",\"@{gross_rent}\"]]},\"id\":\"1146\",\"type\":\"HoverTool\"},{\"attributes\":{},\"id\":\"1165\",\"type\":\"PanTool\"},{\"attributes\":{},\"id\":\"1089\",\"type\":\"BasicTicker\"},{\"attributes\":{},\"id\":\"1166\",\"type\":\"WheelZoomTool\"},{\"attributes\":{},\"id\":\"1100\",\"type\":\"ResetTool\"},{\"attributes\":{},\"id\":\"1189\",\"type\":\"AllLabels\"},{\"attributes\":{\"line_alpha\":0.2,\"line_color\":\"purple\",\"line_width\":2,\"x\":{\"field\":\"year\"},\"y\":{\"field\":\"sale_price_sqr_foot\"}},\"id\":\"1114\",\"type\":\"Line\"},{\"attributes\":{\"overlay\":{\"id\":\"1169\"}},\"id\":\"1167\",\"type\":\"BoxZoomTool\"},{\"attributes\":{\"css_classes\":[\"markdown\"],\"margin\":[5,5,5,5],\"name\":\"Markdown03671\",\"text\":\"&lt;h2&gt;Yearly Market Analysis&lt;/h2&gt;\"},\"id\":\"1008\",\"type\":\"panel.models.markup.HTML\"},{\"attributes\":{\"margin\":[5,5,5,5],\"name\":\"Str03445\"},\"id\":\"1005\",\"type\":\"panel.models.markup.HTML\"},{\"attributes\":{},\"id\":\"1123\",\"type\":\"BasicTickFormatter\"},{\"attributes\":{\"text\":\"Average Monthly Rent\",\"text_color\":\"black\",\"text_font_size\":\"12pt\"},\"id\":\"1148\",\"type\":\"Title\"},{\"attributes\":{},\"id\":\"1098\",\"type\":\"WheelZoomTool\"},{\"attributes\":{\"data_source\":{\"id\":\"1109\"},\"glyph\":{\"id\":\"1112\"},\"hover_glyph\":null,\"muted_glyph\":{\"id\":\"1114\"},\"nonselection_glyph\":{\"id\":\"1113\"},\"selection_glyph\":{\"id\":\"1117\"},\"view\":{\"id\":\"1116\"}},\"id\":\"1115\",\"type\":\"GlyphRenderer\"},{\"attributes\":{},\"id\":\"1168\",\"type\":\"ResetTool\"},{\"attributes\":{\"css_classes\":[\"markdown\"],\"margin\":[5,5,5,5],\"name\":\"Markdown03443\",\"text\":\"&lt;h2&gt;This dashboard presents the analysis of sale prices, gross rents based on the neighborhoods from 2010 to 2016&lt;/h2&gt;\"},\"id\":\"1004\",\"type\":\"panel.models.markup.HTML\"},{\"attributes\":{},\"id\":\"1096\",\"type\":\"SaveTool\"},{\"attributes\":{},\"id\":\"1131\",\"type\":\"UnionRenderers\"},{\"attributes\":{\"end\":2016.0,\"reset_end\":2016.0,\"reset_start\":2010.0,\"start\":2010.0,\"tags\":[[[\"year\",\"year\",null]]]},\"id\":\"1076\",\"type\":\"Range1d\"},{\"attributes\":{},\"id\":\"1261\",\"type\":\"AllLabels\"},{\"attributes\":{\"children\":[{\"id\":\"1291\"},{\"id\":\"1293\"}],\"margin\":[0,0,0,0],\"name\":\"Column03823\"},\"id\":\"1290\",\"type\":\"Column\"},{\"attributes\":{\"text\":\"Housing Units in San Francisco from 2010 to 2016\",\"text_color\":\"black\",\"text_font_size\":\"12pt\"},\"id\":\"1013\",\"type\":\"Title\"},{\"attributes\":{},\"id\":\"1263\",\"type\":\"BasicTickFormatter\"},{\"attributes\":{},\"id\":\"1199\",\"type\":\"UnionRenderers\"},{\"attributes\":{\"children\":[{\"id\":\"1008\"},{\"id\":\"1012\"},{\"id\":\"1079\"},{\"id\":\"1147\"}],\"margin\":[0,0,0,0],\"name\":\"Column03688\"},\"id\":\"1007\",\"type\":\"Column\"},{\"attributes\":{\"line_alpha\":0.1,\"line_color\":\"red\",\"line_width\":2,\"x\":{\"field\":\"year\"},\"y\":{\"field\":\"gross_rent\"}},\"id\":\"1181\",\"type\":\"Line\"},{\"attributes\":{\"below\":[{\"id\":\"1156\"}],\"center\":[{\"id\":\"1159\"},{\"id\":\"1163\"}],\"height\":300,\"left\":[{\"id\":\"1160\"}],\"margin\":[5,5,5,5],\"min_border_bottom\":10,\"min_border_left\":10,\"min_border_right\":10,\"min_border_top\":10,\"renderers\":[{\"id\":\"1183\"}],\"sizing_mode\":\"fixed\",\"title\":{\"id\":\"1148\"},\"toolbar\":{\"id\":\"1170\"},\"width\":700,\"x_range\":{\"id\":\"1144\"},\"x_scale\":{\"id\":\"1152\"},\"y_range\":{\"id\":\"1145\"},\"y_scale\":{\"id\":\"1154\"}},\"id\":\"1147\",\"subtype\":\"Figure\",\"type\":\"Plot\"},{\"attributes\":{},\"id\":\"1019\",\"type\":\"LinearScale\"},{\"attributes\":{\"margin\":[5,5,5,5],\"name\":\"VSpacer03822\",\"sizing_mode\":\"stretch_height\"},\"id\":\"1293\",\"type\":\"Spacer\"},{\"attributes\":{\"bottom_units\":\"screen\",\"fill_alpha\":0.5,\"fill_color\":\"lightgrey\",\"left_units\":\"screen\",\"level\":\"overlay\",\"line_alpha\":1.0,\"line_color\":\"black\",\"line_dash\":[4,4],\"line_width\":2,\"right_units\":\"screen\",\"syncable\":false,\"top_units\":\"screen\"},\"id\":\"1169\",\"type\":\"BoxAnnotation\"},{\"attributes\":{\"factors\":[\"Union Square District\",\"Merced Heights\",\"Miraloma Park\",\"Pacific Heights\",\"Westwood Park\",\"Telegraph Hill\",\"Presidio Heights\",\"Cow Hollow\",\"Potrero Hill\",\"South Beach\"],\"tags\":[[[\"neighborhood\",\"neighborhood\",null]]]},\"id\":\"1294\",\"type\":\"FactorRange\"},{\"attributes\":{\"axis\":{\"id\":\"1092\"},\"dimension\":1,\"grid_line_color\":null,\"ticker\":null},\"id\":\"1095\",\"type\":\"Grid\"},{\"attributes\":{\"children\":[{\"id\":\"1365\"},{\"id\":\"1436\"}],\"margin\":[0,0,0,0],\"name\":\"Row03830\"},\"id\":\"1361\",\"type\":\"Row\"},{\"attributes\":{\"active_multi\":null,\"tools\":[{\"id\":\"1218\"},{\"id\":\"1236\"},{\"id\":\"1237\"},{\"id\":\"1238\"},{\"id\":\"1239\"},{\"id\":\"1240\"}]},\"id\":\"1242\",\"type\":\"Toolbar\"},{\"attributes\":{\"below\":[{\"id\":\"1021\"}],\"center\":[{\"id\":\"1023\"},{\"id\":\"1027\"}],\"height\":400,\"left\":[{\"id\":\"1024\"}],\"margin\":[5,5,5,5],\"min_border_bottom\":10,\"min_border_left\":10,\"min_border_right\":10,\"min_border_top\":10,\"renderers\":[{\"id\":\"1047\"}],\"sizing_mode\":\"fixed\",\"title\":{\"id\":\"1013\"},\"toolbar\":{\"id\":\"1034\"},\"x_range\":{\"id\":\"1009\"},\"x_scale\":{\"id\":\"1017\"},\"y_range\":{\"id\":\"1010\"},\"y_scale\":{\"id\":\"1019\"}},\"id\":\"1012\",\"subtype\":\"Figure\",\"type\":\"Plot\"},{\"attributes\":{\"callback\":null,\"renderers\":[{\"id\":\"1047\"}],\"tags\":[\"hv_created\"],\"tooltips\":[[\"year\",\"@{year}\"],[\"housing_units\",\"@{housing_units}\"]]},\"id\":\"1011\",\"type\":\"HoverTool\"},{\"attributes\":{\"source\":{\"id\":\"1177\"}},\"id\":\"1184\",\"type\":\"CDSView\"},{\"attributes\":{},\"id\":\"1188\",\"type\":\"BasicTickFormatter\"},{\"attributes\":{},\"id\":\"1053\",\"type\":\"AllLabels\"},{\"attributes\":{},\"id\":\"1152\",\"type\":\"LinearScale\"},{\"attributes\":{\"children\":[{\"id\":\"1214\"},{\"id\":\"1215\"},{\"id\":\"1297\"},{\"id\":\"1361\"}],\"margin\":[0,0,0,0],\"name\":\"Column03838\"},\"id\":\"1213\",\"type\":\"Column\"},{\"attributes\":{},\"id\":\"1178\",\"type\":\"Selection\"},{\"attributes\":{\"end\":4705.1,\"reset_end\":4705.1,\"reset_start\":923.9,\"start\":923.9,\"tags\":[[[\"gross_rent\",\"gross_rent\",null]]]},\"id\":\"1145\",\"type\":\"Range1d\"},{\"attributes\":{\"factors\":[\"2010\",\"2011\",\"2012\",\"2013\",\"2014\",\"2015\",\"2016\"],\"tags\":[[[\"year\",\"year\",null]]]},\"id\":\"1009\",\"type\":\"FactorRange\"},{\"attributes\":{\"bottom_units\":\"screen\",\"fill_alpha\":0.5,\"fill_color\":\"lightgrey\",\"left_units\":\"screen\",\"level\":\"overlay\",\"line_alpha\":1.0,\"line_color\":\"black\",\"line_dash\":[4,4],\"line_width\":2,\"right_units\":\"screen\",\"syncable\":false,\"top_units\":\"screen\"},\"id\":\"1033\",\"type\":\"BoxAnnotation\"},{\"attributes\":{},\"id\":\"1050\",\"type\":\"AllLabels\"},{\"attributes\":{\"callback\":null,\"renderers\":[{\"id\":\"1332\"}],\"tags\":[\"hv_created\"],\"tooltips\":[[\"neighborhood\",\"@{neighborhood}\"],[\"sale_price_sqr_foot\",\"@{sale_price_sqr_foot}\"]]},\"id\":\"1296\",\"type\":\"HoverTool\"},{\"attributes\":{\"end\":2016.0,\"reset_end\":2016.0,\"reset_start\":2010.0,\"start\":2010.0,\"tags\":[[[\"year\",\"year\",null]]]},\"id\":\"1144\",\"type\":\"Range1d\"},{\"attributes\":{},\"id\":\"1157\",\"type\":\"BasicTicker\"},{\"attributes\":{},\"id\":\"1191\",\"type\":\"BasicTickFormatter\"},{\"attributes\":{\"active_multi\":null,\"tools\":[{\"id\":\"1364\"},{\"id\":\"1382\"},{\"id\":\"1383\"},{\"id\":\"1384\"},{\"id\":\"1385\"},{\"id\":\"1386\"}]},\"id\":\"1388\",\"type\":\"Toolbar\"},{\"attributes\":{\"end\":929.3801355198136,\"reset_end\":733.2177371101802,\"reset_start\":306.3294011864627,\"start\":0.0,\"tags\":[[[\"sale_price_sqr_foot\",\"sale_price_sqr_foot\",null]]]},\"id\":\"1077\",\"type\":\"Range1d\"},{\"attributes\":{\"bottom_units\":\"screen\",\"fill_alpha\":0.5,\"fill_color\":\"lightgrey\",\"left_units\":\"screen\",\"level\":\"overlay\",\"line_alpha\":1.0,\"line_color\":\"black\",\"line_dash\":[4,4],\"line_width\":2,\"right_units\":\"screen\",\"syncable\":false,\"top_units\":\"screen\"},\"id\":\"1318\",\"type\":\"BoxAnnotation\"},{\"attributes\":{\"fill_alpha\":{\"value\":0.2},\"fill_color\":{\"value\":\"#30a2da\"},\"line_alpha\":{\"value\":0.2},\"top\":{\"field\":\"housing_units\"},\"width\":{\"value\":0.8},\"x\":{\"field\":\"year\"}},\"id\":\"1046\",\"type\":\"VBar\"},{\"attributes\":{},\"id\":\"1382\",\"type\":\"SaveTool\"},{\"attributes\":{},\"id\":\"1052\",\"type\":\"CategoricalTickFormatter\"},{\"attributes\":{},\"id\":\"1338\",\"type\":\"AllLabels\"},{\"attributes\":{\"fill_color\":{\"value\":\"#30a2da\"},\"top\":{\"field\":\"sale_price_sqr_foot\"},\"width\":{\"value\":0.8},\"x\":{\"field\":\"neighborhood\"}},\"id\":\"1329\",\"type\":\"VBar\"},{\"attributes\":{\"data_source\":{\"id\":\"1326\"},\"glyph\":{\"id\":\"1329\"},\"hover_glyph\":null,\"muted_glyph\":{\"id\":\"1331\"},\"nonselection_glyph\":{\"id\":\"1330\"},\"selection_glyph\":{\"id\":\"1334\"},\"view\":{\"id\":\"1333\"}},\"id\":\"1332\",\"type\":\"GlyphRenderer\"},{\"attributes\":{},\"id\":\"1383\",\"type\":\"PanTool\"},{\"attributes\":{\"source\":{\"id\":\"1041\"}},\"id\":\"1048\",\"type\":\"CDSView\"},{\"attributes\":{\"axis\":{\"id\":\"1232\"},\"dimension\":1,\"grid_line_color\":null,\"ticker\":null},\"id\":\"1235\",\"type\":\"Grid\"},{\"attributes\":{\"bottom\":{\"value\":0},\"fill_alpha\":{\"value\":1.0},\"fill_color\":{\"value\":\"#30a2da\"},\"hatch_alpha\":{\"value\":1.0},\"hatch_color\":{\"value\":\"black\"},\"hatch_scale\":{\"value\":12.0},\"hatch_weight\":{\"value\":1.0},\"line_alpha\":{\"value\":1.0},\"line_cap\":{\"value\":\"butt\"},\"line_color\":{\"value\":\"black\"},\"line_dash\":{\"value\":[]},\"line_dash_offset\":{\"value\":0},\"line_join\":{\"value\":\"bevel\"},\"line_width\":{\"value\":1},\"top\":{\"field\":\"sale_price_sqr_foot\"},\"width\":{\"value\":0.8},\"x\":{\"field\":\"neighborhood\"}},\"id\":\"1334\",\"type\":\"VBar\"},{\"attributes\":{},\"id\":\"1327\",\"type\":\"Selection\"},{\"attributes\":{},\"id\":\"1384\",\"type\":\"WheelZoomTool\"},{\"attributes\":{\"bottom\":{\"value\":0},\"fill_alpha\":{\"value\":1.0},\"fill_color\":{\"value\":\"#30a2da\"},\"hatch_alpha\":{\"value\":1.0},\"hatch_color\":{\"value\":\"black\"},\"hatch_scale\":{\"value\":12.0},\"hatch_weight\":{\"value\":1.0},\"line_alpha\":{\"value\":1.0},\"line_cap\":{\"value\":\"butt\"},\"line_color\":{\"value\":\"black\"},\"line_dash\":{\"value\":[]},\"line_dash_offset\":{\"value\":0},\"line_join\":{\"value\":\"bevel\"},\"line_width\":{\"value\":1},\"top\":{\"field\":\"housing_units\"},\"width\":{\"value\":0.8},\"x\":{\"field\":\"year\"}},\"id\":\"1049\",\"type\":\"VBar\"},{\"attributes\":{\"margin\":[20,20,20,20],\"min_width\":250,\"options\":[\"Alamo Square\",\"Anza Vista\",\"Bayview\",\"Buena Vista Park\",\"Central Richmond\",\"Central Sunset\",\"Corona Heights\",\"Cow Hollow\",\"Croker Amazon\",\"Diamond Heights\",\"Downtown \",\"Eureka Valley/Dolores Heights\",\"Excelsior\",\"Financial District North\",\"Financial District South\",\"Forest Knolls\",\"Glen Park\",\"Golden Gate Heights\",\"Haight Ashbury\",\"Hayes Valley\",\"Hunters Point\",\"Ingleside \",\"Inner Mission\",\"Inner Parkside\",\"Inner Richmond\",\"Inner Sunset\",\"Jordan Park/Laurel Heights\",\"Lake --The Presidio\",\"Lone Mountain\",\"Lower Pacific Heights\",\"Marina\",\"Miraloma Park\",\"Mission Bay\",\"Mission Dolores\",\"Mission Terrace\",\"Nob Hill\",\"Noe Valley\",\"Oceanview\",\"Outer Parkside\",\"Outer Richmond \",\"Outer Sunset\",\"Pacific Heights\",\"Park North\",\"Parkside\",\"Parnassus/Ashbury Heights\",\"Portola\",\"Potrero Hill\",\"Presidio Heights\",\"Russian Hill\",\"South Beach\",\"South of Market\",\"Sunnyside\",\"Telegraph Hill\",\"Twin Peaks\",\"Union Square District\",\"Van Ness/ Civic Center\",\"West Portal\",\"Western Addition\",\"Yerba Buena\",\"Bernal Heights \",\"Clarendon Heights\",\"Duboce Triangle\",\"Ingleside Heights\",\"North Beach\",\"North Waterfront\",\"Outer Mission\",\"Westwood Highlands\",\"Merced Heights\",\"Midtown Terrace\",\"Visitacion Valley\",\"Silver Terrace\",\"Westwood Park\",\"Bayview Heights\"],\"title\":\"neighborhood\",\"value\":\"Alamo Square\",\"width\":250},\"id\":\"1292\",\"type\":\"Select\"},{\"attributes\":{\"overlay\":{\"id\":\"1387\"}},\"id\":\"1385\",\"type\":\"BoxZoomTool\"},{\"attributes\":{\"child\":{\"id\":\"1213\"},\"name\":\"Column03838\",\"title\":\"Neighborhood Analysis\"},\"id\":\"1440\",\"type\":\"Panel\"},{\"attributes\":{\"data_source\":{\"id\":\"1041\"},\"glyph\":{\"id\":\"1044\"},\"hover_glyph\":null,\"muted_glyph\":{\"id\":\"1046\"},\"nonselection_glyph\":{\"id\":\"1045\"},\"selection_glyph\":{\"id\":\"1049\"},\"view\":{\"id\":\"1048\"}},\"id\":\"1047\",\"type\":\"GlyphRenderer\"},{\"attributes\":{\"callback\":null,\"renderers\":[{\"id\":\"1115\"}],\"tags\":[\"hv_created\"],\"tooltips\":[[\"year\",\"@{year}\"],[\"sale_price_sqr_foot\",\"@{sale_price_sqr_foot}\"]]},\"id\":\"1078\",\"type\":\"HoverTool\"},{\"attributes\":{\"below\":[{\"id\":\"1306\"}],\"center\":[{\"id\":\"1308\"},{\"id\":\"1312\"}],\"height\":300,\"left\":[{\"id\":\"1309\"}],\"margin\":[5,5,5,5],\"min_border_bottom\":10,\"min_border_left\":10,\"min_border_right\":10,\"min_border_top\":10,\"renderers\":[{\"id\":\"1332\"}],\"sizing_mode\":\"fixed\",\"title\":{\"id\":\"1298\"},\"toolbar\":{\"id\":\"1319\"},\"width\":700,\"x_range\":{\"id\":\"1294\"},\"x_scale\":{\"id\":\"1302\"},\"y_range\":{\"id\":\"1077\"},\"y_scale\":{\"id\":\"1304\"}},\"id\":\"1297\",\"subtype\":\"Figure\",\"type\":\"Plot\"},{\"attributes\":{\"data_source\":{\"id\":\"1395\"},\"glyph\":{\"id\":\"1398\"},\"hover_glyph\":null,\"muted_glyph\":{\"id\":\"1400\"},\"nonselection_glyph\":{\"id\":\"1399\"},\"selection_glyph\":{\"id\":\"1403\"},\"view\":{\"id\":\"1402\"}},\"id\":\"1401\",\"type\":\"GlyphRenderer\"},{\"attributes\":{},\"id\":\"1340\",\"type\":\"BasicTickFormatter\"},{\"attributes\":{},\"id\":\"1302\",\"type\":\"CategoricalScale\"},{\"attributes\":{\"line_color\":\"red\",\"line_width\":2,\"x\":{\"field\":\"year\"},\"y\":{\"field\":\"gross_rent\"}},\"id\":\"1180\",\"type\":\"Line\"},{\"attributes\":{},\"id\":\"1337\",\"type\":\"CategoricalTickFormatter\"},{\"attributes\":{},\"id\":\"1032\",\"type\":\"ResetTool\"},{\"attributes\":{},\"id\":\"1386\",\"type\":\"ResetTool\"},{\"attributes\":{\"line_color\":\"red\",\"line_width\":2,\"x\":{\"field\":\"year\"},\"y\":{\"field\":\"gross_rent\"}},\"id\":\"1185\",\"type\":\"Line\"},{\"attributes\":{},\"id\":\"1335\",\"type\":\"AllLabels\"},{\"attributes\":{},\"id\":\"1304\",\"type\":\"LinearScale\"},{\"attributes\":{},\"id\":\"1063\",\"type\":\"UnionRenderers\"},{\"attributes\":{\"below\":[{\"id\":\"1228\"}],\"center\":[{\"id\":\"1231\"},{\"id\":\"1235\"}],\"height\":300,\"left\":[{\"id\":\"1232\"}],\"margin\":[5,5,5,5],\"min_border_bottom\":10,\"min_border_left\":10,\"min_border_right\":10,\"min_border_top\":10,\"renderers\":[{\"id\":\"1255\"}],\"sizing_mode\":\"fixed\",\"title\":{\"id\":\"1220\"},\"toolbar\":{\"id\":\"1242\"},\"width\":700,\"x_range\":{\"id\":\"1216\"},\"x_scale\":{\"id\":\"1224\"},\"y_range\":{\"id\":\"1077\"},\"y_scale\":{\"id\":\"1226\"}},\"id\":\"1219\",\"subtype\":\"Figure\",\"type\":\"Plot\"},{\"attributes\":{\"axis\":{\"id\":\"1309\"},\"dimension\":1,\"grid_line_color\":null,\"ticker\":null},\"id\":\"1312\",\"type\":\"Grid\"},{\"attributes\":{},\"id\":\"1030\",\"type\":\"WheelZoomTool\"},{\"attributes\":{\"data\":{\"sale_price_sqr_foot\":{\"__ndarray__\":\"tQKjeIIVd0Do7CdydF51QGdijk899nhAaBKk2Jo5fkDGKCTbN2KBQPETFqRSxINAUB33UCbNhUA=\",\"dtype\":\"float64\",\"order\":\"little\",\"shape\":[7]},\"year\":[2010,2011,2012,2013,2014,2015,2016]},\"selected\":{\"id\":\"1110\"},\"selection_policy\":{\"id\":\"1131\"}},\"id\":\"1109\",\"type\":\"ColumnDataSource\"},{\"attributes\":{\"axis_label\":\"year\",\"formatter\":{\"id\":\"1406\"},\"major_label_policy\":{\"id\":\"1404\"},\"ticker\":{\"id\":\"1375\"}},\"id\":\"1374\",\"type\":\"LinearAxis\"},{\"attributes\":{\"children\":[{\"id\":\"1292\"}],\"css_classes\":[\"panel-widget-box\"],\"margin\":[5,5,5,5],\"name\":\"WidgetBox03817\"},\"id\":\"1291\",\"type\":\"Column\"},{\"attributes\":{\"children\":[{\"id\":\"1438\"}],\"css_classes\":[\"panel-widget-box\"],\"margin\":[5,5,5,5],\"name\":\"WidgetBox03831\"},\"id\":\"1437\",\"type\":\"Column\"},{\"attributes\":{\"callback\":null,\"renderers\":[{\"id\":\"1255\"}],\"tags\":[\"hv_created\"],\"tooltips\":[[\"year\",\"@{year}\"],[\"sale_price_sqr_foot\",\"@{sale_price_sqr_foot}\"]]},\"id\":\"1218\",\"type\":\"HoverTool\"},{\"attributes\":{\"axis_label\":\"Neighborhood\",\"formatter\":{\"id\":\"1337\"},\"major_label_policy\":{\"id\":\"1335\"},\"ticker\":{\"id\":\"1307\"}},\"id\":\"1306\",\"type\":\"CategoricalAxis\"},{\"attributes\":{\"axis\":{\"id\":\"1021\"},\"grid_line_color\":null,\"ticker\":null},\"id\":\"1023\",\"type\":\"Grid\"},{\"attributes\":{\"text_color\":\"black\",\"text_font_size\":\"12pt\"},\"id\":\"1298\",\"type\":\"Title\"},{\"attributes\":{\"child\":{\"id\":\"1003\"},\"name\":\"Column03447\",\"title\":\"Welcome\"},\"id\":\"1006\",\"type\":\"Panel\"},{\"attributes\":{\"below\":[{\"id\":\"1088\"}],\"center\":[{\"id\":\"1091\"},{\"id\":\"1095\"}],\"height\":300,\"left\":[{\"id\":\"1092\"}],\"margin\":[5,5,5,5],\"min_border_bottom\":10,\"min_border_left\":10,\"min_border_right\":10,\"min_border_top\":10,\"renderers\":[{\"id\":\"1115\"}],\"sizing_mode\":\"fixed\",\"title\":{\"id\":\"1080\"},\"toolbar\":{\"id\":\"1102\"},\"width\":700,\"x_range\":{\"id\":\"1076\"},\"x_scale\":{\"id\":\"1084\"},\"y_range\":{\"id\":\"1077\"},\"y_scale\":{\"id\":\"1086\"}},\"id\":\"1079\",\"subtype\":\"Figure\",\"type\":\"Plot\"},{\"attributes\":{\"css_classes\":[\"markdown\"],\"margin\":[5,5,5,5],\"name\":\"Markdown03813\",\"text\":\"&lt;h2&gt;Neighborhood Analysis&lt;/h2&gt;\"},\"id\":\"1214\",\"type\":\"panel.models.markup.HTML\"},{\"attributes\":{},\"id\":\"1307\",\"type\":\"CategoricalTicker\"},{\"attributes\":{\"end\":2016.0,\"reset_end\":2016.0,\"reset_start\":2010.0,\"start\":2010.0,\"tags\":[[[\"year\",\"year\",null]]]},\"id\":\"1362\",\"type\":\"Range1d\"},{\"attributes\":{\"below\":[{\"id\":\"1374\"}],\"center\":[{\"id\":\"1377\"},{\"id\":\"1381\"}],\"height\":300,\"left\":[{\"id\":\"1378\"}],\"margin\":[5,5,5,5],\"min_border_bottom\":10,\"min_border_left\":10,\"min_border_right\":10,\"min_border_top\":10,\"renderers\":[{\"id\":\"1401\"}],\"sizing_mode\":\"fixed\",\"title\":{\"id\":\"1366\"},\"toolbar\":{\"id\":\"1388\"},\"width\":700,\"x_range\":{\"id\":\"1362\"},\"x_scale\":{\"id\":\"1370\"},\"y_range\":{\"id\":\"1077\"},\"y_scale\":{\"id\":\"1372\"}},\"id\":\"1365\",\"subtype\":\"Figure\",\"type\":\"Plot\"},{\"attributes\":{\"axis\":{\"id\":\"1306\"},\"grid_line_color\":null,\"ticker\":null},\"id\":\"1308\",\"type\":\"Grid\"},{\"attributes\":{},\"id\":\"1022\",\"type\":\"CategoricalTicker\"},{\"attributes\":{\"callback\":null,\"renderers\":[{\"id\":\"1401\"}],\"tags\":[\"hv_created\"],\"tooltips\":[[\"year\",\"@{year}\"],[\"sale_price_sqr_foot\",\"@{sale_price_sqr_foot}\"]]},\"id\":\"1364\",\"type\":\"HoverTool\"},{\"attributes\":{\"text\":\"Average Price per SqFt by Year\",\"text_color\":\"black\",\"text_font_size\":\"12pt\"},\"id\":\"1080\",\"type\":\"Title\"},{\"attributes\":{\"fill_color\":{\"value\":\"#30a2da\"},\"top\":{\"field\":\"housing_units\"},\"width\":{\"value\":0.8},\"x\":{\"field\":\"year\"}},\"id\":\"1044\",\"type\":\"VBar\"},{\"attributes\":{\"line_color\":\"#30a2da\",\"line_width\":2,\"x\":{\"field\":\"year\"},\"y\":{\"field\":\"sale_price_sqr_foot\"}},\"id\":\"1252\",\"type\":\"Line\"},{\"attributes\":{},\"id\":\"1310\",\"type\":\"BasicTicker\"},{\"attributes\":{\"axis_label\":\"Avg. Sale Price per Square Foot\",\"formatter\":{\"id\":\"1340\"},\"major_label_policy\":{\"id\":\"1338\"},\"ticker\":{\"id\":\"1310\"}},\"id\":\"1309\",\"type\":\"LinearAxis\"},{\"attributes\":{\"children\":[{\"id\":\"1219\"},{\"id\":\"1290\"}],\"margin\":[0,0,0,0],\"name\":\"Row03816\"},\"id\":\"1215\",\"type\":\"Row\"},{\"attributes\":{\"bottom_units\":\"screen\",\"fill_alpha\":0.5,\"fill_color\":\"lightgrey\",\"left_units\":\"screen\",\"level\":\"overlay\",\"line_alpha\":1.0,\"line_color\":\"black\",\"line_dash\":[4,4],\"line_width\":2,\"right_units\":\"screen\",\"syncable\":false,\"top_units\":\"screen\"},\"id\":\"1387\",\"type\":\"BoxAnnotation\"},{\"attributes\":{\"line_color\":\"purple\",\"line_width\":2,\"x\":{\"field\":\"year\"},\"y\":{\"field\":\"sale_price_sqr_foot\"}},\"id\":\"1112\",\"type\":\"Line\"},{\"attributes\":{\"fill_alpha\":{\"value\":0.2},\"fill_color\":{\"value\":\"#30a2da\"},\"line_alpha\":{\"value\":0.2},\"top\":{\"field\":\"sale_price_sqr_foot\"},\"width\":{\"value\":0.8},\"x\":{\"field\":\"neighborhood\"}},\"id\":\"1331\",\"type\":\"VBar\"},{\"attributes\":{\"line_color\":\"#30a2da\",\"line_width\":2,\"x\":{\"field\":\"year\"},\"y\":{\"field\":\"sale_price_sqr_foot\"}},\"id\":\"1257\",\"type\":\"Line\"},{\"attributes\":{\"overlay\":{\"id\":\"1033\"}},\"id\":\"1031\",\"type\":\"BoxZoomTool\"},{\"attributes\":{},\"id\":\"1224\",\"type\":\"LinearScale\"},{\"attributes\":{\"axis_label\":\"\",\"formatter\":{\"id\":\"1055\"},\"major_label_policy\":{\"id\":\"1053\"},\"ticker\":{\"id\":\"1025\"}},\"id\":\"1024\",\"type\":\"LinearAxis\"},{\"attributes\":{},\"id\":\"1086\",\"type\":\"LinearScale\"},{\"attributes\":{},\"id\":\"1250\",\"type\":\"Selection\"},{\"attributes\":{\"axis_label\":\"year\",\"formatter\":{\"id\":\"1260\"},\"major_label_policy\":{\"id\":\"1258\"},\"ticker\":{\"id\":\"1229\"}},\"id\":\"1228\",\"type\":\"LinearAxis\"},{\"attributes\":{\"source\":{\"id\":\"1326\"}},\"id\":\"1333\",\"type\":\"CDSView\"},{\"attributes\":{},\"id\":\"1407\",\"type\":\"AllLabels\"},{\"attributes\":{\"line_color\":\"#30a2da\",\"line_width\":2,\"x\":{\"field\":\"year\"},\"y\":{\"field\":\"sale_price_sqr_foot\"}},\"id\":\"1398\",\"type\":\"Line\"},{\"attributes\":{\"margin\":[0,0,0,0],\"tabs\":[{\"id\":\"1006\"},{\"id\":\"1212\"},{\"id\":\"1440\"}]},\"id\":\"1002\",\"type\":\"Tabs\"},{\"attributes\":{\"end\":388448.0007132667,\"reset_end\":388448.0007132667,\"reset_start\":368353.9992867333,\"start\":368353.9992867333,\"tags\":[[[\"housing_units\",\"housing_units\",null]]]},\"id\":\"1010\",\"type\":\"Range1d\"},{\"attributes\":{},\"id\":\"1017\",\"type\":\"CategoricalScale\"},{\"attributes\":{\"active_multi\":null,\"tools\":[{\"id\":\"1296\"},{\"id\":\"1313\"},{\"id\":\"1314\"},{\"id\":\"1315\"},{\"id\":\"1316\"},{\"id\":\"1317\"}]},\"id\":\"1319\",\"type\":\"Toolbar\"},{\"attributes\":{\"axis_label\":\"year\",\"formatter\":{\"id\":\"1052\"},\"major_label_policy\":{\"id\":\"1050\"},\"ticker\":{\"id\":\"1022\"}},\"id\":\"1021\",\"type\":\"CategoricalAxis\"},{\"attributes\":{},\"id\":\"1313\",\"type\":\"SaveTool\"},{\"attributes\":{\"source\":{\"id\":\"1395\"}},\"id\":\"1402\",\"type\":\"CDSView\"},{\"attributes\":{},\"id\":\"1226\",\"type\":\"LinearScale\"},{\"attributes\":{\"line_color\":\"#30a2da\",\"line_width\":2,\"x\":{\"field\":\"year\"},\"y\":{\"field\":\"sale_price_sqr_foot\"}},\"id\":\"1403\",\"type\":\"Line\"},{\"attributes\":{},\"id\":\"1314\",\"type\":\"PanTool\"},{\"attributes\":{\"margin\":[20,20,20,20],\"min_width\":250,\"options\":[\"Alamo Square\",\"Anza Vista\",\"Bayview\",\"Buena Vista Park\",\"Central Richmond\",\"Central Sunset\",\"Corona Heights\",\"Cow Hollow\",\"Croker Amazon\",\"Diamond Heights\",\"Downtown \",\"Eureka Valley/Dolores Heights\",\"Excelsior\",\"Financial District North\",\"Financial District South\",\"Forest Knolls\",\"Glen Park\",\"Golden Gate Heights\",\"Haight Ashbury\",\"Hayes Valley\",\"Hunters Point\",\"Ingleside \",\"Inner Mission\",\"Inner Parkside\",\"Inner Richmond\",\"Inner Sunset\",\"Jordan Park/Laurel Heights\",\"Lake --The Presidio\",\"Lone Mountain\",\"Lower Pacific Heights\",\"Marina\",\"Miraloma Park\",\"Mission Bay\",\"Mission Dolores\",\"Mission Terrace\",\"Nob Hill\",\"Noe Valley\",\"Oceanview\",\"Outer Parkside\",\"Outer Richmond \",\"Outer Sunset\",\"Pacific Heights\",\"Park North\",\"Parkside\",\"Parnassus/Ashbury Heights\",\"Portola\",\"Potrero Hill\",\"Presidio Heights\",\"Russian Hill\",\"South Beach\",\"South of Market\",\"Sunnyside\",\"Telegraph Hill\",\"Twin Peaks\",\"Union Square District\",\"Van Ness/ Civic Center\",\"West Portal\",\"Western Addition\",\"Yerba Buena\",\"Bernal Heights \",\"Clarendon Heights\",\"Duboce Triangle\",\"Ingleside Heights\",\"North Beach\",\"North Waterfront\",\"Outer Mission\",\"Westwood Highlands\",\"Merced Heights\",\"Midtown Terrace\",\"Visitacion Valley\",\"Silver Terrace\",\"Westwood Park\",\"Bayview Heights\"],\"title\":\"neighborhood\",\"value\":\"Alamo Square\",\"width\":250},\"id\":\"1438\",\"type\":\"Select\"},{\"attributes\":{},\"id\":\"1396\",\"type\":\"Selection\"},{\"attributes\":{},\"id\":\"1370\",\"type\":\"LinearScale\"},{\"attributes\":{},\"id\":\"1315\",\"type\":\"WheelZoomTool\"},{\"attributes\":{},\"id\":\"1372\",\"type\":\"LinearScale\"},{\"attributes\":{},\"id\":\"1229\",\"type\":\"BasicTicker\"},{\"attributes\":{},\"id\":\"1406\",\"type\":\"BasicTickFormatter\"},{\"attributes\":{\"axis\":{\"id\":\"1024\"},\"dimension\":1,\"grid_line_color\":null,\"ticker\":null},\"id\":\"1027\",\"type\":\"Grid\"},{\"attributes\":{\"text\":\"neighborhood: Alamo Square\",\"text_color\":\"black\",\"text_font_size\":\"12pt\"},\"id\":\"1220\",\"type\":\"Title\"},{\"attributes\":{},\"id\":\"1404\",\"type\":\"AllLabels\"},{\"attributes\":{\"line_alpha\":0.2,\"line_color\":\"#30a2da\",\"line_width\":2,\"x\":{\"field\":\"year\"},\"y\":{\"field\":\"sale_price_sqr_foot\"}},\"id\":\"1400\",\"type\":\"Line\"},{\"attributes\":{\"end\":2016.0,\"reset_end\":2016.0,\"reset_start\":2010.0,\"start\":2010.0,\"tags\":[[[\"year\",\"year\",null]]]},\"id\":\"1216\",\"type\":\"Range1d\"},{\"attributes\":{\"overlay\":{\"id\":\"1318\"}},\"id\":\"1316\",\"type\":\"BoxZoomTool\"},{\"attributes\":{\"data\":{\"sale_price_sqr_foot\":{\"__ndarray__\":\"Dkc7WO0yckCafszcbwhxQIGRs5ot42ZAJzog0LQ8eEAWMinKGEd+QI0V5FDt0IJAVCHcmLVPdUA=\",\"dtype\":\"float64\",\"order\":\"little\",\"shape\":[7]},\"year\":[2010,2011,2012,2013,2014,2015,2016]},\"selected\":{\"id\":\"1250\"},\"selection_policy\":{\"id\":\"1277\"}},\"id\":\"1249\",\"type\":\"ColumnDataSource\"},{\"attributes\":{},\"id\":\"1025\",\"type\":\"BasicTicker\"},{\"attributes\":{},\"id\":\"1409\",\"type\":\"BasicTickFormatter\"},{\"attributes\":{\"line_alpha\":0.1,\"line_color\":\"#30a2da\",\"line_width\":2,\"x\":{\"field\":\"year\"},\"y\":{\"field\":\"sale_price_sqr_foot\"}},\"id\":\"1399\",\"type\":\"Line\"},{\"attributes\":{\"client_comm_id\":\"eb3fb2a2fb514f55a940c688d1379be3\",\"comm_id\":\"c397a84bae14419b924d5da222b53352\",\"plot_id\":\"1002\"},\"id\":\"1621\",\"type\":\"panel.models.comm_manager.CommManager\"},{\"attributes\":{},\"id\":\"1084\",\"type\":\"LinearScale\"},{\"attributes\":{\"axis\":{\"id\":\"1228\"},\"grid_line_color\":null,\"ticker\":null},\"id\":\"1231\",\"type\":\"Grid\"},{\"attributes\":{},\"id\":\"1260\",\"type\":\"BasicTickFormatter\"},{\"attributes\":{\"axis_label\":\"year\",\"formatter\":{\"id\":\"1120\"},\"major_label_policy\":{\"id\":\"1118\"},\"ticker\":{\"id\":\"1089\"}},\"id\":\"1088\",\"type\":\"LinearAxis\"},{\"attributes\":{},\"id\":\"1233\",\"type\":\"BasicTicker\"},{\"attributes\":{\"children\":[{\"id\":\"1004\"},{\"id\":\"1005\"}],\"margin\":[0,0,0,0],\"name\":\"Column03447\"},\"id\":\"1003\",\"type\":\"Column\"},{\"attributes\":{\"axis_label\":\"Avg. Sale Price per sqft\",\"formatter\":{\"id\":\"1263\"},\"major_label_policy\":{\"id\":\"1261\"},\"ticker\":{\"id\":\"1233\"}},\"id\":\"1232\",\"type\":\"LinearAxis\"},{\"attributes\":{},\"id\":\"1317\",\"type\":\"ResetTool\"},{\"attributes\":{\"axis\":{\"id\":\"1378\"},\"dimension\":1,\"grid_line_color\":null,\"ticker\":null},\"id\":\"1381\",\"type\":\"Grid\"},{\"attributes\":{\"text\":\"neighborhood: Alamo Square\",\"text_color\":\"black\",\"text_font_size\":\"12pt\"},\"id\":\"1366\",\"type\":\"Title\"},{\"attributes\":{},\"id\":\"1237\",\"type\":\"PanTool\"},{\"attributes\":{\"reload\":false},\"id\":\"1802\",\"type\":\"panel.models.location.Location\"},{\"attributes\":{\"data_source\":{\"id\":\"1249\"},\"glyph\":{\"id\":\"1252\"},\"hover_glyph\":null,\"muted_glyph\":{\"id\":\"1254\"},\"nonselection_glyph\":{\"id\":\"1253\"},\"selection_glyph\":{\"id\":\"1257\"},\"view\":{\"id\":\"1256\"}},\"id\":\"1255\",\"type\":\"GlyphRenderer\"},{\"attributes\":{},\"id\":\"1258\",\"type\":\"AllLabels\"},{\"attributes\":{\"fill_alpha\":{\"value\":0.1},\"fill_color\":{\"value\":\"#30a2da\"},\"line_alpha\":{\"value\":0.1},\"top\":{\"field\":\"housing_units\"},\"width\":{\"value\":0.8},\"x\":{\"field\":\"year\"}},\"id\":\"1045\",\"type\":\"VBar\"},{\"attributes\":{},\"id\":\"1375\",\"type\":\"BasicTicker\"},{\"attributes\":{\"line_alpha\":0.2,\"line_color\":\"#30a2da\",\"line_width\":2,\"x\":{\"field\":\"year\"},\"y\":{\"field\":\"sale_price_sqr_foot\"}},\"id\":\"1254\",\"type\":\"Line\"},{\"attributes\":{\"axis\":{\"id\":\"1374\"},\"grid_line_color\":null,\"ticker\":null},\"id\":\"1377\",\"type\":\"Grid\"},{\"attributes\":{\"line_alpha\":0.1,\"line_color\":\"#30a2da\",\"line_width\":2,\"x\":{\"field\":\"year\"},\"y\":{\"field\":\"sale_price_sqr_foot\"}},\"id\":\"1253\",\"type\":\"Line\"},{\"attributes\":{\"active_multi\":null,\"tools\":[{\"id\":\"1011\"},{\"id\":\"1028\"},{\"id\":\"1029\"},{\"id\":\"1030\"},{\"id\":\"1031\"},{\"id\":\"1032\"}]},\"id\":\"1034\",\"type\":\"Toolbar\"},{\"attributes\":{},\"id\":\"1348\",\"type\":\"UnionRenderers\"},{\"attributes\":{},\"id\":\"1379\",\"type\":\"BasicTicker\"},{\"attributes\":{},\"id\":\"1423\",\"type\":\"UnionRenderers\"},{\"attributes\":{\"axis_label\":\"Avg. Sale Price per sqft\",\"formatter\":{\"id\":\"1409\"},\"major_label_policy\":{\"id\":\"1407\"},\"ticker\":{\"id\":\"1379\"}},\"id\":\"1378\",\"type\":\"LinearAxis\"},{\"attributes\":{},\"id\":\"1042\",\"type\":\"Selection\"},{\"attributes\":{\"source\":{\"id\":\"1249\"}},\"id\":\"1256\",\"type\":\"CDSView\"},{\"attributes\":{\"children\":[{\"id\":\"1437\"},{\"id\":\"1439\"}],\"margin\":[0,0,0,0],\"name\":\"Column03837\"},\"id\":\"1436\",\"type\":\"Column\"},{\"attributes\":{},\"id\":\"1236\",\"type\":\"SaveTool\"},{\"attributes\":{\"data\":{\"sale_price_sqr_foot\":{\"__ndarray__\":\"Dkc7WO0yckCafszcbwhxQIGRs5ot42ZAJzog0LQ8eEAWMinKGEd+QI0V5FDt0IJAVCHcmLVPdUA=\",\"dtype\":\"float64\",\"order\":\"little\",\"shape\":[7]},\"year\":[2010,2011,2012,2013,2014,2015,2016]},\"selected\":{\"id\":\"1396\"},\"selection_policy\":{\"id\":\"1423\"}},\"id\":\"1395\",\"type\":\"ColumnDataSource\"},{\"attributes\":{},\"id\":\"1029\",\"type\":\"PanTool\"},{\"attributes\":{\"data\":{\"housing_units\":[372560,374507,376454,378401,380348,382295,384242],\"year\":[\"2010\",\"2011\",\"2012\",\"2013\",\"2014\",\"2015\",\"2016\"]},\"selected\":{\"id\":\"1042\"},\"selection_policy\":{\"id\":\"1063\"}},\"id\":\"1041\",\"type\":\"ColumnDataSource\"},{\"attributes\":{},\"id\":\"1028\",\"type\":\"SaveTool\"}],\"root_ids\":[\"1002\",\"1621\",\"1802\"]},\"title\":\"Bokeh Application\",\"version\":\"2.3.2\"}};\n",
       "    var render_items = [{\"docid\":\"b3199b10-056e-416e-aa49-7d57a9dc4a82\",\"root_ids\":[\"1002\"],\"roots\":{\"1002\":\"65996537-1954-4873-8ba8-03e7ec1e6efa\"}}];\n",
       "    root.Bokeh.embed.embed_items_notebook(docs_json, render_items);\n",
       "  }\n",
       "  if (root.Bokeh !== undefined && root.Bokeh.Panel !== undefined && root['Plotly'] !== undefined ) {\n",
       "    embed_document(root);\n",
       "  } else {\n",
       "    var attempts = 0;\n",
       "    var timer = setInterval(function(root) {\n",
       "      if (root.Bokeh !== undefined && root.Bokeh.Panel !== undefined && root['Plotly'] !== undefined) {\n",
       "        clearInterval(timer);\n",
       "        embed_document(root);\n",
       "      } else if (document.readyState == \"complete\") {\n",
       "        attempts++;\n",
       "        if (attempts > 100) {\n",
       "          clearInterval(timer);\n",
       "          console.log(\"Bokeh: ERROR: Unable to run BokehJS code because BokehJS library is missing\");\n",
       "        }\n",
       "      }\n",
       "    }, 10, root)\n",
       "  }\n",
       "})(window);</script>"
      ],
      "text/plain": [
       "Tabs\n",
       "    [0] Column\n",
       "        [0] Markdown(str)\n",
       "        [1] Str(None)\n",
       "    [1] Column\n",
       "        [0] Markdown(str)\n",
       "        [1] HoloViews(Bars)\n",
       "        [2] HoloViews(Curve)\n",
       "        [3] HoloViews(Curve)\n",
       "    [2] Column\n",
       "        [0] Markdown(str)\n",
       "        [1] Row\n",
       "            [0] HoloViews(DynamicMap)\n",
       "            [1] Column\n",
       "                [0] WidgetBox\n",
       "                    [0] Select(margin=(20, 20, 20, 20), name='neighborhood', options=['Alamo Square', ...], value='Alamo Square', width=250)\n",
       "                [1] VSpacer()\n",
       "        [2] HoloViews(Bars)\n",
       "        [3] Row\n",
       "            [0] HoloViews(DynamicMap)\n",
       "            [1] Column\n",
       "                [0] WidgetBox\n",
       "                    [0] Select(margin=(20, 20, 20, 20), name='neighborhood', options=['Alamo Square', ...], value='Alamo Square', width=250)\n",
       "                [1] VSpacer()"
      ]
     },
     "execution_count": 41,
     "metadata": {
      "application/vnd.holoviews_exec.v0+json": {
       "id": "1002"
      }
     },
     "output_type": "execute_result"
    }
   ],
   "source": [
    "# Create the dashboard\n",
    "# YOUR CODE HERE!\n",
    "dashboard.servable()"
   ]
  },
  {
   "cell_type": "markdown",
   "metadata": {},
   "source": [
    "## Serve the Panel Dashboard"
   ]
  },
  {
   "cell_type": "code",
   "execution_count": null,
   "metadata": {},
   "outputs": [],
   "source": [
    "# Serve the# dashboard\n",
    "# YOUR CODE HERE!"
   ]
  },
  {
   "cell_type": "markdown",
   "metadata": {},
   "source": [
    "# Debugging\n",
    "\n",
    "Note: Some of the Plotly express plots may not render in the notebook through the panel functions.\n",
    "\n",
    "However, you can test each plot by uncommenting the following code"
   ]
  },
  {
   "cell_type": "code",
   "execution_count": null,
   "metadata": {},
   "outputs": [],
   "source": [
    "housing_units_per_year()"
   ]
  },
  {
   "cell_type": "code",
   "execution_count": null,
   "metadata": {},
   "outputs": [],
   "source": [
    "average_gross_rent()"
   ]
  },
  {
   "cell_type": "code",
   "execution_count": null,
   "metadata": {},
   "outputs": [],
   "source": [
    "average_sales_price()"
   ]
  },
  {
   "cell_type": "code",
   "execution_count": null,
   "metadata": {},
   "outputs": [],
   "source": [
    "average_price_by_neighborhood()"
   ]
  },
  {
   "cell_type": "code",
   "execution_count": null,
   "metadata": {},
   "outputs": [],
   "source": [
    "top_most_expensive_neighborhoods()"
   ]
  },
  {
   "cell_type": "code",
   "execution_count": null,
   "metadata": {},
   "outputs": [],
   "source": [
    "most_expensive_neighborhoods_rent_sales()"
   ]
  },
  {
   "cell_type": "code",
   "execution_count": null,
   "metadata": {},
   "outputs": [],
   "source": [
    "#neighborhood_map().show()"
   ]
  },
  {
   "cell_type": "code",
   "execution_count": null,
   "metadata": {},
   "outputs": [],
   "source": [
    "# parallel_categories()"
   ]
  },
  {
   "cell_type": "code",
   "execution_count": null,
   "metadata": {},
   "outputs": [],
   "source": [
    "# parallel_coordinates()"
   ]
  },
  {
   "cell_type": "code",
   "execution_count": null,
   "metadata": {},
   "outputs": [],
   "source": [
    "# sunburst()"
   ]
  },
  {
   "cell_type": "code",
   "execution_count": null,
   "metadata": {},
   "outputs": [],
   "source": []
  }
 ],
 "metadata": {
  "file_extension": ".py",
  "kernelspec": {
   "display_name": "Python [conda env:pyvizenv] *",
   "language": "python",
   "name": "conda-env-pyvizenv-py"
  },
  "language_info": {
   "codemirror_mode": {
    "name": "ipython",
    "version": 3
   },
   "file_extension": ".py",
   "mimetype": "text/x-python",
   "name": "python",
   "nbconvert_exporter": "python",
   "pygments_lexer": "ipython3",
   "version": "3.7.10"
  },
  "mimetype": "text/x-python",
  "name": "python",
  "npconvert_exporter": "python",
  "pygments_lexer": "ipython3",
  "version": 3
 },
 "nbformat": 4,
 "nbformat_minor": 4
}
